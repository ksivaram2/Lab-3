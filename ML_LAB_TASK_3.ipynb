{
  "nbformat": 4,
  "nbformat_minor": 0,
  "metadata": {
    "colab": {
      "provenance": [],
      "include_colab_link": true
    },
    "kernelspec": {
      "name": "python3",
      "display_name": "Python 3"
    },
    "language_info": {
      "name": "python"
    }
  },
  "cells": [
    {
      "cell_type": "markdown",
      "metadata": {
        "id": "view-in-github",
        "colab_type": "text"
      },
      "source": [
        "<a href=\"https://colab.research.google.com/github/ksivaram2/Lab-3/blob/main/ML_LAB_TASK_3.ipynb\" target=\"_parent\"><img src=\"https://colab.research.google.com/assets/colab-badge.svg\" alt=\"Open In Colab\"/></a>"
      ]
    },
    {
      "cell_type": "code",
      "execution_count": 1,
      "metadata": {
        "id": "ZKkWixipNDyy"
      },
      "outputs": [],
      "source": [
        "import pandas as pd\n",
        "import numpy as np"
      ]
    },
    {
      "cell_type": "code",
      "source": [
        "import matplotlib.pyplot as plt\n",
        "%matplotlib inline"
      ],
      "metadata": {
        "id": "JXyBfYujOXkg"
      },
      "execution_count": 2,
      "outputs": []
    },
    {
      "cell_type": "code",
      "source": [
        "df = pd.read_csv('/content/tips.csv')"
      ],
      "metadata": {
        "id": "Ae0fUPBlOt3u"
      },
      "execution_count": 4,
      "outputs": []
    },
    {
      "cell_type": "code",
      "source": [
        "df.isnull().sum()"
      ],
      "metadata": {
        "colab": {
          "base_uri": "https://localhost:8080/"
        },
        "id": "7bA7f6ICPDEA",
        "outputId": "f1f74155-1f2a-4f0b-fe48-b0b47d607305"
      },
      "execution_count": 5,
      "outputs": [
        {
          "output_type": "execute_result",
          "data": {
            "text/plain": [
              "Unnamed: 0     0\n",
              "total_bill    39\n",
              "tip            0\n",
              "sex            0\n",
              "smoker         0\n",
              "day            0\n",
              "time           0\n",
              "size           0\n",
              "dtype: int64"
            ]
          },
          "metadata": {},
          "execution_count": 5
        }
      ]
    },
    {
      "cell_type": "code",
      "source": [
        "import pandas as pd\n",
        "data = pd.read_csv('tips.csv')\n",
        "missing_values = data.isnull().sum()\n",
        "print(\"Columns with missing values:\")\n",
        "print(missing_values[missing_values > 0])"
      ],
      "metadata": {
        "colab": {
          "base_uri": "https://localhost:8080/"
        },
        "id": "gr3dJz5-QHK_",
        "outputId": "272a8a04-a076-4b24-9469-dcd3d03f4a1c"
      },
      "execution_count": 6,
      "outputs": [
        {
          "output_type": "stream",
          "name": "stdout",
          "text": [
            "Columns with missing values:\n",
            "total_bill    39\n",
            "dtype: int64\n"
          ]
        }
      ]
    },
    {
      "cell_type": "code",
      "source": [
        "import pandas as pd\n",
        "data = pd.read_csv('tips.csv')\n",
        "missing_values = data.isnull().sum()\n",
        "print(\"Missing values in the dataset:\")\n",
        "print(missing_values)"
      ],
      "metadata": {
        "colab": {
          "base_uri": "https://localhost:8080/"
        },
        "id": "8Gi84pBKQZOI",
        "outputId": "12086527-d186-41cd-cbb7-2c1277c01145"
      },
      "execution_count": 23,
      "outputs": [
        {
          "output_type": "stream",
          "name": "stdout",
          "text": [
            "Missing values in the dataset:\n",
            "Unnamed: 0     0\n",
            "total_bill    39\n",
            "tip            0\n",
            "sex            0\n",
            "smoker         0\n",
            "day            0\n",
            "time           0\n",
            "size           0\n",
            "dtype: int64\n"
          ]
        }
      ]
    },
    {
      "cell_type": "code",
      "source": [
        "df['total_bill'] = df['total_bill'].fillna(df['total_bill'].mean())"
      ],
      "metadata": {
        "id": "AML7TDlJSHYN"
      },
      "execution_count": 24,
      "outputs": []
    },
    {
      "cell_type": "code",
      "source": [
        "df"
      ],
      "metadata": {
        "colab": {
          "base_uri": "https://localhost:8080/",
          "height": 424
        },
        "id": "8H-LfxQESUHB",
        "outputId": "f2e7ea64-292c-4702-99b4-c3b184aadd1b"
      },
      "execution_count": 10,
      "outputs": [
        {
          "output_type": "execute_result",
          "data": {
            "text/plain": [
              "     Unnamed: 0  total_bill   tip     sex smoker   day    time  size\n",
              "0             0   16.990000  1.01  Female     No   Sun  Dinner     2\n",
              "1             1   21.360195  1.66    Male     No   Sun  Dinner     3\n",
              "2             2   21.010000  3.50    Male     No   Sun  Dinner     3\n",
              "3             3   23.680000  3.31    Male     No   Sun  Dinner     2\n",
              "4             4   24.590000  3.61  Female     No   Sun  Dinner     4\n",
              "..          ...         ...   ...     ...    ...   ...     ...   ...\n",
              "239         239   29.030000  5.92    Male     No   Sat  Dinner     3\n",
              "240         240   27.180000  2.00  Female    Yes   Sat  Dinner     2\n",
              "241         241   22.670000  2.00    Male    Yes   Sat  Dinner     2\n",
              "242         242   17.820000  1.75    Male     No   Sat  Dinner     2\n",
              "243         243   18.780000  3.00  Female     No  Thur  Dinner     2\n",
              "\n",
              "[244 rows x 8 columns]"
            ],
            "text/html": [
              "\n",
              "  <div id=\"df-f2020a37-1528-4b32-bcab-66f4029d54ca\" class=\"colab-df-container\">\n",
              "    <div>\n",
              "<style scoped>\n",
              "    .dataframe tbody tr th:only-of-type {\n",
              "        vertical-align: middle;\n",
              "    }\n",
              "\n",
              "    .dataframe tbody tr th {\n",
              "        vertical-align: top;\n",
              "    }\n",
              "\n",
              "    .dataframe thead th {\n",
              "        text-align: right;\n",
              "    }\n",
              "</style>\n",
              "<table border=\"1\" class=\"dataframe\">\n",
              "  <thead>\n",
              "    <tr style=\"text-align: right;\">\n",
              "      <th></th>\n",
              "      <th>Unnamed: 0</th>\n",
              "      <th>total_bill</th>\n",
              "      <th>tip</th>\n",
              "      <th>sex</th>\n",
              "      <th>smoker</th>\n",
              "      <th>day</th>\n",
              "      <th>time</th>\n",
              "      <th>size</th>\n",
              "    </tr>\n",
              "  </thead>\n",
              "  <tbody>\n",
              "    <tr>\n",
              "      <th>0</th>\n",
              "      <td>0</td>\n",
              "      <td>16.990000</td>\n",
              "      <td>1.01</td>\n",
              "      <td>Female</td>\n",
              "      <td>No</td>\n",
              "      <td>Sun</td>\n",
              "      <td>Dinner</td>\n",
              "      <td>2</td>\n",
              "    </tr>\n",
              "    <tr>\n",
              "      <th>1</th>\n",
              "      <td>1</td>\n",
              "      <td>21.360195</td>\n",
              "      <td>1.66</td>\n",
              "      <td>Male</td>\n",
              "      <td>No</td>\n",
              "      <td>Sun</td>\n",
              "      <td>Dinner</td>\n",
              "      <td>3</td>\n",
              "    </tr>\n",
              "    <tr>\n",
              "      <th>2</th>\n",
              "      <td>2</td>\n",
              "      <td>21.010000</td>\n",
              "      <td>3.50</td>\n",
              "      <td>Male</td>\n",
              "      <td>No</td>\n",
              "      <td>Sun</td>\n",
              "      <td>Dinner</td>\n",
              "      <td>3</td>\n",
              "    </tr>\n",
              "    <tr>\n",
              "      <th>3</th>\n",
              "      <td>3</td>\n",
              "      <td>23.680000</td>\n",
              "      <td>3.31</td>\n",
              "      <td>Male</td>\n",
              "      <td>No</td>\n",
              "      <td>Sun</td>\n",
              "      <td>Dinner</td>\n",
              "      <td>2</td>\n",
              "    </tr>\n",
              "    <tr>\n",
              "      <th>4</th>\n",
              "      <td>4</td>\n",
              "      <td>24.590000</td>\n",
              "      <td>3.61</td>\n",
              "      <td>Female</td>\n",
              "      <td>No</td>\n",
              "      <td>Sun</td>\n",
              "      <td>Dinner</td>\n",
              "      <td>4</td>\n",
              "    </tr>\n",
              "    <tr>\n",
              "      <th>...</th>\n",
              "      <td>...</td>\n",
              "      <td>...</td>\n",
              "      <td>...</td>\n",
              "      <td>...</td>\n",
              "      <td>...</td>\n",
              "      <td>...</td>\n",
              "      <td>...</td>\n",
              "      <td>...</td>\n",
              "    </tr>\n",
              "    <tr>\n",
              "      <th>239</th>\n",
              "      <td>239</td>\n",
              "      <td>29.030000</td>\n",
              "      <td>5.92</td>\n",
              "      <td>Male</td>\n",
              "      <td>No</td>\n",
              "      <td>Sat</td>\n",
              "      <td>Dinner</td>\n",
              "      <td>3</td>\n",
              "    </tr>\n",
              "    <tr>\n",
              "      <th>240</th>\n",
              "      <td>240</td>\n",
              "      <td>27.180000</td>\n",
              "      <td>2.00</td>\n",
              "      <td>Female</td>\n",
              "      <td>Yes</td>\n",
              "      <td>Sat</td>\n",
              "      <td>Dinner</td>\n",
              "      <td>2</td>\n",
              "    </tr>\n",
              "    <tr>\n",
              "      <th>241</th>\n",
              "      <td>241</td>\n",
              "      <td>22.670000</td>\n",
              "      <td>2.00</td>\n",
              "      <td>Male</td>\n",
              "      <td>Yes</td>\n",
              "      <td>Sat</td>\n",
              "      <td>Dinner</td>\n",
              "      <td>2</td>\n",
              "    </tr>\n",
              "    <tr>\n",
              "      <th>242</th>\n",
              "      <td>242</td>\n",
              "      <td>17.820000</td>\n",
              "      <td>1.75</td>\n",
              "      <td>Male</td>\n",
              "      <td>No</td>\n",
              "      <td>Sat</td>\n",
              "      <td>Dinner</td>\n",
              "      <td>2</td>\n",
              "    </tr>\n",
              "    <tr>\n",
              "      <th>243</th>\n",
              "      <td>243</td>\n",
              "      <td>18.780000</td>\n",
              "      <td>3.00</td>\n",
              "      <td>Female</td>\n",
              "      <td>No</td>\n",
              "      <td>Thur</td>\n",
              "      <td>Dinner</td>\n",
              "      <td>2</td>\n",
              "    </tr>\n",
              "  </tbody>\n",
              "</table>\n",
              "<p>244 rows × 8 columns</p>\n",
              "</div>\n",
              "    <div class=\"colab-df-buttons\">\n",
              "\n",
              "  <div class=\"colab-df-container\">\n",
              "    <button class=\"colab-df-convert\" onclick=\"convertToInteractive('df-f2020a37-1528-4b32-bcab-66f4029d54ca')\"\n",
              "            title=\"Convert this dataframe to an interactive table.\"\n",
              "            style=\"display:none;\">\n",
              "\n",
              "  <svg xmlns=\"http://www.w3.org/2000/svg\" height=\"24px\" viewBox=\"0 -960 960 960\">\n",
              "    <path d=\"M120-120v-720h720v720H120Zm60-500h600v-160H180v160Zm220 220h160v-160H400v160Zm0 220h160v-160H400v160ZM180-400h160v-160H180v160Zm440 0h160v-160H620v160ZM180-180h160v-160H180v160Zm440 0h160v-160H620v160Z\"/>\n",
              "  </svg>\n",
              "    </button>\n",
              "\n",
              "  <style>\n",
              "    .colab-df-container {\n",
              "      display:flex;\n",
              "      gap: 12px;\n",
              "    }\n",
              "\n",
              "    .colab-df-convert {\n",
              "      background-color: #E8F0FE;\n",
              "      border: none;\n",
              "      border-radius: 50%;\n",
              "      cursor: pointer;\n",
              "      display: none;\n",
              "      fill: #1967D2;\n",
              "      height: 32px;\n",
              "      padding: 0 0 0 0;\n",
              "      width: 32px;\n",
              "    }\n",
              "\n",
              "    .colab-df-convert:hover {\n",
              "      background-color: #E2EBFA;\n",
              "      box-shadow: 0px 1px 2px rgba(60, 64, 67, 0.3), 0px 1px 3px 1px rgba(60, 64, 67, 0.15);\n",
              "      fill: #174EA6;\n",
              "    }\n",
              "\n",
              "    .colab-df-buttons div {\n",
              "      margin-bottom: 4px;\n",
              "    }\n",
              "\n",
              "    [theme=dark] .colab-df-convert {\n",
              "      background-color: #3B4455;\n",
              "      fill: #D2E3FC;\n",
              "    }\n",
              "\n",
              "    [theme=dark] .colab-df-convert:hover {\n",
              "      background-color: #434B5C;\n",
              "      box-shadow: 0px 1px 3px 1px rgba(0, 0, 0, 0.15);\n",
              "      filter: drop-shadow(0px 1px 2px rgba(0, 0, 0, 0.3));\n",
              "      fill: #FFFFFF;\n",
              "    }\n",
              "  </style>\n",
              "\n",
              "    <script>\n",
              "      const buttonEl =\n",
              "        document.querySelector('#df-f2020a37-1528-4b32-bcab-66f4029d54ca button.colab-df-convert');\n",
              "      buttonEl.style.display =\n",
              "        google.colab.kernel.accessAllowed ? 'block' : 'none';\n",
              "\n",
              "      async function convertToInteractive(key) {\n",
              "        const element = document.querySelector('#df-f2020a37-1528-4b32-bcab-66f4029d54ca');\n",
              "        const dataTable =\n",
              "          await google.colab.kernel.invokeFunction('convertToInteractive',\n",
              "                                                    [key], {});\n",
              "        if (!dataTable) return;\n",
              "\n",
              "        const docLinkHtml = 'Like what you see? Visit the ' +\n",
              "          '<a target=\"_blank\" href=https://colab.research.google.com/notebooks/data_table.ipynb>data table notebook</a>'\n",
              "          + ' to learn more about interactive tables.';\n",
              "        element.innerHTML = '';\n",
              "        dataTable['output_type'] = 'display_data';\n",
              "        await google.colab.output.renderOutput(dataTable, element);\n",
              "        const docLink = document.createElement('div');\n",
              "        docLink.innerHTML = docLinkHtml;\n",
              "        element.appendChild(docLink);\n",
              "      }\n",
              "    </script>\n",
              "  </div>\n",
              "\n",
              "\n",
              "<div id=\"df-b650ee20-00fe-4c99-8488-b29eb73fe85e\">\n",
              "  <button class=\"colab-df-quickchart\" onclick=\"quickchart('df-b650ee20-00fe-4c99-8488-b29eb73fe85e')\"\n",
              "            title=\"Suggest charts\"\n",
              "            style=\"display:none;\">\n",
              "\n",
              "<svg xmlns=\"http://www.w3.org/2000/svg\" height=\"24px\"viewBox=\"0 0 24 24\"\n",
              "     width=\"24px\">\n",
              "    <g>\n",
              "        <path d=\"M19 3H5c-1.1 0-2 .9-2 2v14c0 1.1.9 2 2 2h14c1.1 0 2-.9 2-2V5c0-1.1-.9-2-2-2zM9 17H7v-7h2v7zm4 0h-2V7h2v10zm4 0h-2v-4h2v4z\"/>\n",
              "    </g>\n",
              "</svg>\n",
              "  </button>\n",
              "\n",
              "<style>\n",
              "  .colab-df-quickchart {\n",
              "      --bg-color: #E8F0FE;\n",
              "      --fill-color: #1967D2;\n",
              "      --hover-bg-color: #E2EBFA;\n",
              "      --hover-fill-color: #174EA6;\n",
              "      --disabled-fill-color: #AAA;\n",
              "      --disabled-bg-color: #DDD;\n",
              "  }\n",
              "\n",
              "  [theme=dark] .colab-df-quickchart {\n",
              "      --bg-color: #3B4455;\n",
              "      --fill-color: #D2E3FC;\n",
              "      --hover-bg-color: #434B5C;\n",
              "      --hover-fill-color: #FFFFFF;\n",
              "      --disabled-bg-color: #3B4455;\n",
              "      --disabled-fill-color: #666;\n",
              "  }\n",
              "\n",
              "  .colab-df-quickchart {\n",
              "    background-color: var(--bg-color);\n",
              "    border: none;\n",
              "    border-radius: 50%;\n",
              "    cursor: pointer;\n",
              "    display: none;\n",
              "    fill: var(--fill-color);\n",
              "    height: 32px;\n",
              "    padding: 0;\n",
              "    width: 32px;\n",
              "  }\n",
              "\n",
              "  .colab-df-quickchart:hover {\n",
              "    background-color: var(--hover-bg-color);\n",
              "    box-shadow: 0 1px 2px rgba(60, 64, 67, 0.3), 0 1px 3px 1px rgba(60, 64, 67, 0.15);\n",
              "    fill: var(--button-hover-fill-color);\n",
              "  }\n",
              "\n",
              "  .colab-df-quickchart-complete:disabled,\n",
              "  .colab-df-quickchart-complete:disabled:hover {\n",
              "    background-color: var(--disabled-bg-color);\n",
              "    fill: var(--disabled-fill-color);\n",
              "    box-shadow: none;\n",
              "  }\n",
              "\n",
              "  .colab-df-spinner {\n",
              "    border: 2px solid var(--fill-color);\n",
              "    border-color: transparent;\n",
              "    border-bottom-color: var(--fill-color);\n",
              "    animation:\n",
              "      spin 1s steps(1) infinite;\n",
              "  }\n",
              "\n",
              "  @keyframes spin {\n",
              "    0% {\n",
              "      border-color: transparent;\n",
              "      border-bottom-color: var(--fill-color);\n",
              "      border-left-color: var(--fill-color);\n",
              "    }\n",
              "    20% {\n",
              "      border-color: transparent;\n",
              "      border-left-color: var(--fill-color);\n",
              "      border-top-color: var(--fill-color);\n",
              "    }\n",
              "    30% {\n",
              "      border-color: transparent;\n",
              "      border-left-color: var(--fill-color);\n",
              "      border-top-color: var(--fill-color);\n",
              "      border-right-color: var(--fill-color);\n",
              "    }\n",
              "    40% {\n",
              "      border-color: transparent;\n",
              "      border-right-color: var(--fill-color);\n",
              "      border-top-color: var(--fill-color);\n",
              "    }\n",
              "    60% {\n",
              "      border-color: transparent;\n",
              "      border-right-color: var(--fill-color);\n",
              "    }\n",
              "    80% {\n",
              "      border-color: transparent;\n",
              "      border-right-color: var(--fill-color);\n",
              "      border-bottom-color: var(--fill-color);\n",
              "    }\n",
              "    90% {\n",
              "      border-color: transparent;\n",
              "      border-bottom-color: var(--fill-color);\n",
              "    }\n",
              "  }\n",
              "</style>\n",
              "\n",
              "  <script>\n",
              "    async function quickchart(key) {\n",
              "      const quickchartButtonEl =\n",
              "        document.querySelector('#' + key + ' button');\n",
              "      quickchartButtonEl.disabled = true;  // To prevent multiple clicks.\n",
              "      quickchartButtonEl.classList.add('colab-df-spinner');\n",
              "      try {\n",
              "        const charts = await google.colab.kernel.invokeFunction(\n",
              "            'suggestCharts', [key], {});\n",
              "      } catch (error) {\n",
              "        console.error('Error during call to suggestCharts:', error);\n",
              "      }\n",
              "      quickchartButtonEl.classList.remove('colab-df-spinner');\n",
              "      quickchartButtonEl.classList.add('colab-df-quickchart-complete');\n",
              "    }\n",
              "    (() => {\n",
              "      let quickchartButtonEl =\n",
              "        document.querySelector('#df-b650ee20-00fe-4c99-8488-b29eb73fe85e button');\n",
              "      quickchartButtonEl.style.display =\n",
              "        google.colab.kernel.accessAllowed ? 'block' : 'none';\n",
              "    })();\n",
              "  </script>\n",
              "</div>\n",
              "    </div>\n",
              "  </div>\n"
            ]
          },
          "metadata": {},
          "execution_count": 10
        }
      ]
    },
    {
      "cell_type": "code",
      "source": [
        "for col in data.columns:\n",
        "    print(col,\":\", len(data[col].unique()),' labels')"
      ],
      "metadata": {
        "colab": {
          "base_uri": "https://localhost:8080/"
        },
        "id": "rK5mAeQVRJcu",
        "outputId": "c13e9e65-aad4-460b-8ee3-8e3f2622e207"
      },
      "execution_count": 11,
      "outputs": [
        {
          "output_type": "stream",
          "name": "stdout",
          "text": [
            "Unnamed: 0 : 244  labels\n",
            "total_bill : 195  labels\n",
            "tip : 123  labels\n",
            "sex : 2  labels\n",
            "smoker : 2  labels\n",
            "day : 4  labels\n",
            "time : 2  labels\n",
            "size : 6  labels\n"
          ]
        }
      ]
    },
    {
      "cell_type": "code",
      "source": [
        "df = pd.get_dummies(data,drop_first=True)\n",
        "df.shape"
      ],
      "metadata": {
        "colab": {
          "base_uri": "https://localhost:8080/"
        },
        "id": "Tgr9HBiUULXB",
        "outputId": "73faf108-6abe-4120-8c38-4d5c9741c2f8"
      },
      "execution_count": 12,
      "outputs": [
        {
          "output_type": "execute_result",
          "data": {
            "text/plain": [
              "(244, 10)"
            ]
          },
          "metadata": {},
          "execution_count": 12
        }
      ]
    },
    {
      "cell_type": "code",
      "source": [
        "#2 Handle the categorical data in the tips dataset with the relevant approaches such as label-encoding, one hot encoding, ordinal encoding.\n",
        "\n",
        "#One hot encoding\n",
        "import seaborn as sns\n",
        "import pandas as pd\n",
        "tips = sns.load_dataset('tips')\n",
        "print(tips.head())\n",
        "tips_encoded = pd.get_dummies(tips, columns=['sex', 'smoker', 'day'])\n",
        "print(tips_encoded.head())"
      ],
      "metadata": {
        "id": "VluKHLYIUQgs",
        "outputId": "0c28b84e-9f97-46ad-8974-55ff912b000c",
        "colab": {
          "base_uri": "https://localhost:8080/"
        }
      },
      "execution_count": 13,
      "outputs": [
        {
          "output_type": "stream",
          "name": "stdout",
          "text": [
            "   total_bill   tip     sex smoker  day    time  size\n",
            "0       16.99  1.01  Female     No  Sun  Dinner     2\n",
            "1       10.34  1.66    Male     No  Sun  Dinner     3\n",
            "2       21.01  3.50    Male     No  Sun  Dinner     3\n",
            "3       23.68  3.31    Male     No  Sun  Dinner     2\n",
            "4       24.59  3.61  Female     No  Sun  Dinner     4\n",
            "   total_bill   tip    time  size  sex_Male  sex_Female  smoker_Yes  \\\n",
            "0       16.99  1.01  Dinner     2         0           1           0   \n",
            "1       10.34  1.66  Dinner     3         1           0           0   \n",
            "2       21.01  3.50  Dinner     3         1           0           0   \n",
            "3       23.68  3.31  Dinner     2         1           0           0   \n",
            "4       24.59  3.61  Dinner     4         0           1           0   \n",
            "\n",
            "   smoker_No  day_Thur  day_Fri  day_Sat  day_Sun  \n",
            "0          1         0        0        0        1  \n",
            "1          1         0        0        0        1  \n",
            "2          1         0        0        0        1  \n",
            "3          1         0        0        0        1  \n",
            "4          1         0        0        0        1  \n"
          ]
        }
      ]
    },
    {
      "cell_type": "code",
      "source": [
        "#label encoding\n",
        "from sklearn.preprocessing import LabelEncoder\n",
        "categorical_cols = data.select_dtypes(include=['object']).columns\n",
        "label_encoder = LabelEncoder()\n",
        "for col in categorical_cols:\n",
        "    data[col] = label_encoder.fit_transform(data[col])\n",
        "print(data)"
      ],
      "metadata": {
        "colab": {
          "base_uri": "https://localhost:8080/"
        },
        "id": "L6FEteZOVZIH",
        "outputId": "6d42e485-8e7b-4b67-806a-40770401b486"
      },
      "execution_count": 14,
      "outputs": [
        {
          "output_type": "stream",
          "name": "stdout",
          "text": [
            "     Unnamed: 0  total_bill   tip  sex  smoker  day  time  size\n",
            "0             0       16.99  1.01    0       0    2     0     2\n",
            "1             1         NaN  1.66    1       0    2     0     3\n",
            "2             2       21.01  3.50    1       0    2     0     3\n",
            "3             3       23.68  3.31    1       0    2     0     2\n",
            "4             4       24.59  3.61    0       0    2     0     4\n",
            "..          ...         ...   ...  ...     ...  ...   ...   ...\n",
            "239         239       29.03  5.92    1       0    1     0     3\n",
            "240         240       27.18  2.00    0       1    1     0     2\n",
            "241         241       22.67  2.00    1       1    1     0     2\n",
            "242         242       17.82  1.75    1       0    1     0     2\n",
            "243         243       18.78  3.00    0       0    3     0     2\n",
            "\n",
            "[244 rows x 8 columns]\n"
          ]
        }
      ]
    },
    {
      "cell_type": "code",
      "source": [
        "#ordinal encoding\n",
        "\n",
        "import pandas as pd\n",
        "from sklearn.preprocessing import OrdinalEncoder\n",
        "tips_df = pd.read_csv(\"tips.csv\")\n",
        "day_order = ['Thur', 'Fri', 'Sat', 'Sun']\n",
        "time_order = ['Lunch', 'Dinner']\n",
        "sex_order = ['Male' , 'Female']\n",
        "smoker_order = ['yes','no']\n",
        "ordinal_categories = {\n",
        "    'day': day_order,\n",
        "    'time': time_order,\n",
        "    'sex': sex_order,\n",
        "    'smoker': smoker_order\n",
        "}\n",
        "ordinal_encoder = OrdinalEncoder(categories=[ordinal_categories[col] for col in ['day', 'time']])\n",
        "tips_df[['day', 'time']] = ordinal_encoder.fit_transform(tips_df[['day', 'time']])\n",
        "print(tips_df)"
      ],
      "metadata": {
        "colab": {
          "base_uri": "https://localhost:8080/"
        },
        "id": "tseWuDxHV9Uv",
        "outputId": "8564f913-a812-422f-eb33-3601ce8fbb11"
      },
      "execution_count": 15,
      "outputs": [
        {
          "output_type": "stream",
          "name": "stdout",
          "text": [
            "     Unnamed: 0  total_bill   tip     sex smoker  day  time  size\n",
            "0             0       16.99  1.01  Female     No  3.0   1.0     2\n",
            "1             1         NaN  1.66    Male     No  3.0   1.0     3\n",
            "2             2       21.01  3.50    Male     No  3.0   1.0     3\n",
            "3             3       23.68  3.31    Male     No  3.0   1.0     2\n",
            "4             4       24.59  3.61  Female     No  3.0   1.0     4\n",
            "..          ...         ...   ...     ...    ...  ...   ...   ...\n",
            "239         239       29.03  5.92    Male     No  2.0   1.0     3\n",
            "240         240       27.18  2.00  Female    Yes  2.0   1.0     2\n",
            "241         241       22.67  2.00    Male    Yes  2.0   1.0     2\n",
            "242         242       17.82  1.75    Male     No  2.0   1.0     2\n",
            "243         243       18.78  3.00  Female     No  0.0   1.0     2\n",
            "\n",
            "[244 rows x 8 columns]\n"
          ]
        }
      ]
    },
    {
      "cell_type": "code",
      "source": [
        "#3 Perform feature scaling techniques such as min-max normalization, standardization, z-score, onthe tips dataset.\n",
        "import pandas as pd\n",
        "import seaborn as sns\n",
        "tips = sns.load_dataset('tips')\n",
        "print(tips.head())"
      ],
      "metadata": {
        "id": "-eN68qOFW7PX",
        "colab": {
          "base_uri": "https://localhost:8080/"
        },
        "outputId": "efd55de3-c635-4f20-e785-3e62f87868ff"
      },
      "execution_count": 16,
      "outputs": [
        {
          "output_type": "stream",
          "name": "stdout",
          "text": [
            "   total_bill   tip     sex smoker  day    time  size\n",
            "0       16.99  1.01  Female     No  Sun  Dinner     2\n",
            "1       10.34  1.66    Male     No  Sun  Dinner     3\n",
            "2       21.01  3.50    Male     No  Sun  Dinner     3\n",
            "3       23.68  3.31    Male     No  Sun  Dinner     2\n",
            "4       24.59  3.61  Female     No  Sun  Dinner     4\n"
          ]
        }
      ]
    },
    {
      "cell_type": "code",
      "source": [
        "#min max normalization\n",
        "\n",
        "from sklearn.preprocessing import MinMaxScaler\n",
        "scaler = MinMaxScaler()\n",
        "scaled_data = scaler.fit_transform(tips[['total_bill', 'tip']])\n",
        "scaled_df = pd.DataFrame(scaled_data, columns=['total_bill_scaled', 'tip_scaled'])\n",
        "scaled_tips = pd.concat([tips, scaled_df], axis=1)\n",
        "print(scaled_tips.head())"
      ],
      "metadata": {
        "colab": {
          "base_uri": "https://localhost:8080/"
        },
        "id": "ATDfsq1ruM6E",
        "outputId": "fbc4aa17-b1e0-4190-ab16-29ef8a9419e3"
      },
      "execution_count": 17,
      "outputs": [
        {
          "output_type": "stream",
          "name": "stdout",
          "text": [
            "   total_bill   tip     sex smoker  day    time  size  total_bill_scaled  \\\n",
            "0       16.99  1.01  Female     No  Sun  Dinner     2           0.291579   \n",
            "1       10.34  1.66    Male     No  Sun  Dinner     3           0.152283   \n",
            "2       21.01  3.50    Male     No  Sun  Dinner     3           0.375786   \n",
            "3       23.68  3.31    Male     No  Sun  Dinner     2           0.431713   \n",
            "4       24.59  3.61  Female     No  Sun  Dinner     4           0.450775   \n",
            "\n",
            "   tip_scaled  \n",
            "0    0.001111  \n",
            "1    0.073333  \n",
            "2    0.277778  \n",
            "3    0.256667  \n",
            "4    0.290000  \n"
          ]
        }
      ]
    },
    {
      "cell_type": "code",
      "source": [
        "#standardization\n",
        "\n",
        "from sklearn.preprocessing import StandardScaler\n",
        "scaler = StandardScaler()\n",
        "standardized_data = scaler.fit_transform(tips[['total_bill', 'tip']])\n",
        "standardized_df = pd.DataFrame(standardized_data, columns=['total_bill_standardized', 'tip_standardized'])\n",
        "standardized_tips = pd.concat([tips, standardized_df], axis=1)\n",
        "print(standardized_tips.head())"
      ],
      "metadata": {
        "colab": {
          "base_uri": "https://localhost:8080/"
        },
        "id": "vqDGZfL3uXeu",
        "outputId": "7ff249cc-6684-43ee-cbb0-50f9a0e3077f"
      },
      "execution_count": 18,
      "outputs": [
        {
          "output_type": "stream",
          "name": "stdout",
          "text": [
            "   total_bill   tip     sex smoker  day    time  size  \\\n",
            "0       16.99  1.01  Female     No  Sun  Dinner     2   \n",
            "1       10.34  1.66    Male     No  Sun  Dinner     3   \n",
            "2       21.01  3.50    Male     No  Sun  Dinner     3   \n",
            "3       23.68  3.31    Male     No  Sun  Dinner     2   \n",
            "4       24.59  3.61  Female     No  Sun  Dinner     4   \n",
            "\n",
            "   total_bill_standardized  tip_standardized  \n",
            "0                -0.314711         -1.439947  \n",
            "1                -1.063235         -0.969205  \n",
            "2                 0.137780          0.363356  \n",
            "3                 0.438315          0.225754  \n",
            "4                 0.540745          0.443020  \n"
          ]
        }
      ]
    },
    {
      "cell_type": "code",
      "source": [
        "# Z-score normalization\n",
        "\n",
        "print(standardized_tips.head())"
      ],
      "metadata": {
        "colab": {
          "base_uri": "https://localhost:8080/"
        },
        "id": "0p-JMi5QuhIm",
        "outputId": "af548b1c-7adb-4a92-b45a-a3ae33d3800c"
      },
      "execution_count": 19,
      "outputs": [
        {
          "output_type": "stream",
          "name": "stdout",
          "text": [
            "   total_bill   tip     sex smoker  day    time  size  \\\n",
            "0       16.99  1.01  Female     No  Sun  Dinner     2   \n",
            "1       10.34  1.66    Male     No  Sun  Dinner     3   \n",
            "2       21.01  3.50    Male     No  Sun  Dinner     3   \n",
            "3       23.68  3.31    Male     No  Sun  Dinner     2   \n",
            "4       24.59  3.61  Female     No  Sun  Dinner     4   \n",
            "\n",
            "   total_bill_standardized  tip_standardized  \n",
            "0                -0.314711         -1.439947  \n",
            "1                -1.063235         -0.969205  \n",
            "2                 0.137780          0.363356  \n",
            "3                 0.438315          0.225754  \n",
            "4                 0.540745          0.443020  \n"
          ]
        }
      ]
    },
    {
      "cell_type": "code",
      "source": [
        "#4 Create a new feature representing the average tip percentage for each dining party size.\n",
        "\n",
        "import pandas as pd\n",
        "import seaborn as sns\n",
        "tips = sns.load_dataset('tips')\n",
        "tips['tip_percentage'] = tips['tip'] / tips['total_bill'] * 100\n",
        "average_tip_percentage_by_size = tips.groupby('size')['tip_percentage'].mean().reset_index()\n",
        "average_tip_percentage_by_size.columns = ['party_size', 'avg_tip_percentage']\n",
        "print(average_tip_percentage_by_size)"
      ],
      "metadata": {
        "colab": {
          "base_uri": "https://localhost:8080/"
        },
        "id": "WU9JNNPvulsr",
        "outputId": "c6a5ebe4-a1fe-47c6-ac6e-30be620d1fbe"
      },
      "execution_count": 20,
      "outputs": [
        {
          "output_type": "stream",
          "name": "stdout",
          "text": [
            "   party_size  avg_tip_percentage\n",
            "0           1           21.729202\n",
            "1           2           16.571919\n",
            "2           3           15.215685\n",
            "3           4           14.594901\n",
            "4           5           14.149549\n",
            "5           6           15.622920\n"
          ]
        }
      ]
    },
    {
      "cell_type": "code",
      "source": [
        "#5 Create a new feature based on total bill and tips if total bill is greater than 10$ and tips is greater than 3$ mark as Highest-bills-with-tips otherwise Normal-bills\n",
        "\n",
        "import pandas as pd\n",
        "import seaborn as sns\n",
        "tips = sns.load_dataset('tips')\n",
        "def label_bills(row):\n",
        "    if row['total_bill'] > 10 and row['tip'] > 3:\n",
        "        return 'Highest-bills-with-tips'\n",
        "    else:\n",
        "        return 'Normal-bills'\n",
        "tips['bill_and_tip_category'] = tips.apply(label_bills, axis=1)\n",
        "print(tips.head())"
      ],
      "metadata": {
        "colab": {
          "base_uri": "https://localhost:8080/"
        },
        "id": "LSXbUCezu-wQ",
        "outputId": "0b98018c-4c20-4560-e47f-a4f8bdb206bd"
      },
      "execution_count": 22,
      "outputs": [
        {
          "output_type": "stream",
          "name": "stdout",
          "text": [
            "   total_bill   tip     sex smoker  day    time  size    bill_and_tip_category\n",
            "0       16.99  1.01  Female     No  Sun  Dinner     2             Normal-bills\n",
            "1       10.34  1.66    Male     No  Sun  Dinner     3             Normal-bills\n",
            "2       21.01  3.50    Male     No  Sun  Dinner     3  Highest-bills-with-tips\n",
            "3       23.68  3.31    Male     No  Sun  Dinner     2  Highest-bills-with-tips\n",
            "4       24.59  3.61  Female     No  Sun  Dinner     4  Highest-bills-with-tips\n"
          ]
        }
      ]
    },
    {
      "cell_type": "code",
      "source": [],
      "metadata": {
        "id": "1LZqDkWsvUn6"
      },
      "execution_count": null,
      "outputs": []
    }
  ]
}